{
 "cells": [
  {
   "cell_type": "markdown",
   "metadata": {},
   "source": [
    "### Импортируем необходимые библиотеки"
   ]
  },
  {
   "cell_type": "code",
   "execution_count": 21,
   "metadata": {},
   "outputs": [],
   "source": [
    "import csv\n",
    "import operator\n",
    "import json\n",
    "from math import sqrt"
   ]
  },
  {
   "cell_type": "markdown",
   "metadata": {},
   "source": [
    "### Чтение данных из CSV-файла\n",
    "Удаляются столбцы и строки с соответствующими им названиями"
   ]
  },
  {
   "cell_type": "code",
   "execution_count": 22,
   "metadata": {},
   "outputs": [],
   "source": [
    "def csvRead(path, outType = \"str\"):\n",
    "    with open(path) as csv_file:\n",
    "        reader = csv.reader(csv_file, delimiter=',', skipinitialspace=True)\n",
    "        next(reader)\n",
    "        if (outType == \"str\"):\n",
    "            return {rows[0]: rows[1:] for rows in reader}\n",
    "        elif (outType == \"int\"):\n",
    "            return {rows[0]: list(map(int, rows[1:])) for rows in reader}"
   ]
  },
  {
   "cell_type": "markdown",
   "metadata": {},
   "source": [
    "### Получение названий всех фильмов"
   ]
  },
  {
   "cell_type": "code",
   "execution_count": 23,
   "metadata": {},
   "outputs": [],
   "source": [
    "def getMovieTitles(path):\n",
    "    with open(path) as data:\n",
    "        data_csv_reader = csv.reader(data, delimiter=',', skipinitialspace=True)\n",
    "        return next(data_csv_reader)[1:]"
   ]
  },
  {
   "cell_type": "markdown",
   "metadata": {},
   "source": [
    "## $$sim_{u,v}= \\frac{\\sum_{i=1}^m u_i v_i}{\\sqrt{\\sum_{i=1}^m u_i^2}\\sqrt{\\sum_{i=1}^m v_i^2}}$$"
   ]
  },
  {
   "cell_type": "code",
   "execution_count": 24,
   "metadata": {},
   "outputs": [],
   "source": [
    "def getSim(ratings, input_user):\n",
    "    sim = {}\n",
    "    for user_id in ratings:\n",
    "        if user_id == input_user:\n",
    "            continue\n",
    "        user_ratings = ratings[user_id]\n",
    "\n",
    "        sum_1 = 0\n",
    "        sum_2 = 0\n",
    "        sum_3 = 0\n",
    "\n",
    "        for i in range(len(input_user_ratings)):\n",
    "            if input_user_ratings[i] == -1 or user_ratings[i] == -1:\n",
    "                continue\n",
    "            sum_1 += input_user_ratings[i] * user_ratings[i]\n",
    "            sum_2 += input_user_ratings[i] ** 2\n",
    "            sum_3 += user_ratings[i] ** 2\n",
    "\n",
    "        sim[user_id] = round(sum_1 / sqrt(sum_2) / sqrt(sum_3), 3)\n",
    "    return sim"
   ]
  },
  {
   "cell_type": "code",
   "execution_count": 25,
   "metadata": {},
   "outputs": [],
   "source": [
    "def getNearest(sorted_sim, movie_idx, k = 4):\n",
    "    nearest = []\n",
    "    counter = 0\n",
    "    for user in sorted_sim:\n",
    "        if counter == k:\n",
    "            break\n",
    "        if data[user][movie_idx] != -1:\n",
    "            nearest.append(user)\n",
    "        counter += 1\n",
    "    return nearest"
   ]
  },
  {
   "cell_type": "markdown",
   "metadata": {},
   "source": [
    "**getAvg(user_ratings)** - Возвращает среднюю оценку пользователя по **просмотренным** фильмам."
   ]
  },
  {
   "cell_type": "code",
   "execution_count": 26,
   "metadata": {},
   "outputs": [],
   "source": [
    "def getAvg(user_ratings):\n",
    "    rated = list(filter(lambda x: x != -1, user_ratings))\n",
    "    return round(sum(rated) / len(rated), 3)"
   ]
  },
  {
   "cell_type": "markdown",
   "metadata": {},
   "source": [
    "## $$\\hat{r}_{ui}=\\overline{r}_u+\\frac{\\sum_{v=1}^k sim_{vu}(r_{vi}-\\overline{r}_v)}{\\sum_{v=1}^k \\mid sim_{vu} \\mid}$$"
   ]
  },
  {
   "cell_type": "code",
   "execution_count": 27,
   "metadata": {},
   "outputs": [],
   "source": [
    "def getRui(movie_idx):\n",
    "    sum_1 = 0\n",
    "    sum_2 = 0\n",
    "\n",
    "    for v in getNearest(sorted_sim, movie_idx):\n",
    "        sum_1 += sim[v] * (data[v][movie_idx] - getAvg(data[v]))\n",
    "        sum_2 += abs(sim[v])\n",
    "    return round(getAvg(input_user_ratings) + sum_1 / sum_2, 3)"
   ]
  },
  {
   "cell_type": "markdown",
   "metadata": {},
   "source": [
    "### Корректировка для Task 2\n",
    "В качестве переменной **correct** может выступать любая величина"
   ]
  },
  {
   "cell_type": "code",
   "execution_count": 28,
   "metadata": {},
   "outputs": [],
   "source": [
    "def getContextCoefficient(movie_idx):\n",
    "    coefficient = 1\n",
    "    correct = 0.01\n",
    "    for v in getNearest(sorted_sim, movie_idx):\n",
    "        if context_place[v][movie_idx] == 'h':\n",
    "            coefficient += correct\n",
    "        else:\n",
    "            coefficient -= correct\n",
    "\n",
    "        if context_day[v][movie_idx] == 'Sat' or context_day[v][movie_idx] == 'Sun':\n",
    "            coefficient += correct\n",
    "        else:\n",
    "            coefficient -= correct\n",
    "\n",
    "    return coefficient"
   ]
  },
  {
   "cell_type": "markdown",
   "metadata": {},
   "source": [
    "### Task 2\n",
    "Для рекомендации фильма пользователю **дома** в **выходной день** был применен подход аналогична первому заданию, <br>\n",
    "только берутся те фильмы, которые **не были просмотрены** данным пользователем и были просмотрены в **выходные дни** **дома** другими пользователями"
   ]
  },
  {
   "cell_type": "code",
   "execution_count": 29,
   "metadata": {},
   "outputs": [],
   "source": [
    "def getRecommendations():\n",
    "    task_1 = {}\n",
    "    task_2 = {}\n",
    "\n",
    "    for movie_idx in range(len(input_user_ratings)):\n",
    "        if input_user_ratings[movie_idx] != -1:\n",
    "            continue\n",
    "\n",
    "        task_1[movies[movie_idx]] = getRui(movie_idx)\n",
    "        task_2[movies[movie_idx]] = round(task_1[movies[movie_idx]] * getContextCoefficient(movie_idx), 3)\n",
    "\n",
    "    sorted_movies = list(sorted(task_2.items(), key=lambda kv: kv[1], reverse=True))[0]\n",
    "    return {'User': input_user, '1': task_1, '2': {sorted_movies[0]: sorted_movies[1]}}"
   ]
  },
  {
   "cell_type": "markdown",
   "metadata": {},
   "source": [
    "### Создание JSON файла"
   ]
  },
  {
   "cell_type": "code",
   "execution_count": 33,
   "metadata": {},
   "outputs": [],
   "source": [
    "def getJson(rec):\n",
    "    with open(f'result.json', 'w') as outfile:\n",
    "        json.dump(rec, outfile, indent=4)\n",
    "    print(\"JSON created!\")"
   ]
  },
  {
   "cell_type": "markdown",
   "metadata": {},
   "source": [
    "Основной вход программы."
   ]
  },
  {
   "cell_type": "code",
   "execution_count": 35,
   "metadata": {},
   "outputs": [
    {
     "name": "stdout",
     "output_type": "stream",
     "text": [
      "enter user id: 5\n",
      "{'User': 'User 5', '1': {'Movie 13': 4.521, 'Movie 24': 3.228, 'Movie 28': 2.934, 'Movie 30': 3.875}, '2': {'Movie 13': 4.431}}\n",
      "JSON created!\n"
     ]
    }
   ],
   "source": [
    "data = csvRead('src/data.csv', 'int')\n",
    "context_day = csvRead('src/context_day.csv')\n",
    "context_place = csvRead('src/context_place.csv')\n",
    "movies = getMovieTitles('src/data.csv')\n",
    "\n",
    "input_user_id = input('enter user id: ')\n",
    "input_user = f'User {input_user_id}'\n",
    "input_user_ratings = data[input_user]\n",
    "\n",
    "sim = getSim(data, input_user)\n",
    "sorted_sim = list(map(lambda x: x[0], sorted(sim.items(), key=lambda kv: kv[1], reverse=True)))\n",
    "\n",
    "rec = getRecommendations()\n",
    "print(rec)\n",
    "getJson(rec)"
   ]
  },
  {
   "cell_type": "code",
   "execution_count": null,
   "metadata": {},
   "outputs": [],
   "source": []
  }
 ],
 "metadata": {
  "kernelspec": {
   "display_name": "Python 3",
   "language": "python",
   "name": "python3"
  },
  "language_info": {
   "codemirror_mode": {
    "name": "ipython",
    "version": 3
   },
   "file_extension": ".py",
   "mimetype": "text/x-python",
   "name": "python",
   "nbconvert_exporter": "python",
   "pygments_lexer": "ipython3",
   "version": "3.7.3"
  }
 },
 "nbformat": 4,
 "nbformat_minor": 2
}
