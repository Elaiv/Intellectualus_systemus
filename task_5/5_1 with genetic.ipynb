{
 "cells": [
  {
   "cell_type": "code",
   "execution_count": 39,
   "metadata": {},
   "outputs": [],
   "source": [
    "from pyeasyga import pyeasyga\n",
    "path = \"src/18.txt\""
   ]
  },
  {
   "cell_type": "code",
   "execution_count": 40,
   "metadata": {},
   "outputs": [
    {
     "name": "stdout",
     "output_type": "stream",
     "text": [
      "(13000.0, 12.0)\n"
     ]
    },
    {
     "data": {
      "text/plain": [
       "[{'c': 190, 'v': 0.9, 'w': 600},\n",
       " {'c': 102, 'v': 0.6, 'w': 873},\n",
       " {'c': 296, 'v': 1.1, 'w': 1054},\n",
       " {'c': 123, 'v': 0.6, 'w': 1287},\n",
       " {'c': 184, 'v': 0.8, 'w': 776},\n",
       " {'c': 376, 'v': 0.8, 'w': 1445},\n",
       " {'c': 362, 'v': 0.9, 'w': 1054},\n",
       " {'c': 183, 'v': 0.6, 'w': 750},\n",
       " {'c': 302, 'v': 0.6, 'w': 1463},\n",
       " {'c': 337, 'v': 1.1, 'w': 460},\n",
       " {'c': 119, 'v': 0.8, 'w': 560},\n",
       " {'c': 205, 'v': 0.5, 'w': 1285},\n",
       " {'c': 347, 'v': 0.7, 'w': 1084},\n",
       " {'c': 295, 'v': 0.5, 'w': 253},\n",
       " {'c': 103, 'v': 0.7, 'w': 377},\n",
       " {'c': 203, 'v': 0.6, 'w': 1035},\n",
       " {'c': 327, 'v': 0.9, 'w': 861},\n",
       " {'c': 184, 'v': 0.7, 'w': 212},\n",
       " {'c': 361, 'v': 0.5, 'w': 1534},\n",
       " {'c': 201, 'v': 1.1, 'w': 575},\n",
       " {'c': 307, 'v': 0.7, 'w': 815},\n",
       " {'c': 138, 'v': 0.4, 'w': 147},\n",
       " {'c': 121, 'v': 0.4, 'w': 898},\n",
       " {'c': 340, 'v': 0.6, 'w': 325},\n",
       " {'c': 114, 'v': 1.2, 'w': 466},\n",
       " {'c': 234, 'v': 1.0, 'w': 978},\n",
       " {'c': 202, 'v': 0.5, 'w': 1686},\n",
       " {'c': 315, 'v': 0.5, 'w': 312},\n",
       " {'c': 119, 'v': 1.1, 'w': 503},\n",
       " {'c': 329, 'v': 1.1, 'w': 1406}]"
      ]
     },
     "execution_count": 40,
     "metadata": {},
     "output_type": "execute_result"
    }
   ],
   "source": [
    "with open(path) as f:\n",
    "    rawData = [x.strip() for x in f.readlines()]\n",
    "    \n",
    "capacities = [float(n) for n in rawData.pop(0).split()]\n",
    "print( capacities[0],  capacities[1])\n",
    "\n",
    "data = []\n",
    "for x in rawData:\n",
    "    data.append([float(n) for n in x.split()])\n",
    "knapsackData = []\n",
    "for i in data:\n",
    "    knapsackData.append({'w': int(i[0]), 'v': float(i[1]), 'c': int(i[2])})\n",
    "knapsackData"
   ]
  },
  {
   "cell_type": "code",
   "execution_count": 41,
   "metadata": {},
   "outputs": [],
   "source": [
    "def fitness(individual, data):\n",
    "    value, weight, volume = 0, 0, 0\n",
    "    for selected, box in zip(individual, data):\n",
    "        if selected:\n",
    "            volume += box.get('v')\n",
    "            weight += box.get('w')\n",
    "            value += box.get('c')\n",
    "    if weight > capacities[0] or volume > capacities[1]:\n",
    "        value = 0\n",
    "    return value\n",
    "\n",
    "genetic = pyeasyga.GeneticAlgorithm(knapsackData)\n",
    "genetic.population_size = 200\n",
    "\n",
    "genetic.fitness_function = fitness\n",
    "genetic.run()\n",
    "\n",
    "res = genetic.best_individual()"
   ]
  },
  {
   "cell_type": "code",
   "execution_count": 42,
   "metadata": {},
   "outputs": [
    {
     "name": "stdout",
     "output_type": "stream",
     "text": [
      "Ценность рюкзака: 4587\n",
      "Вес рюкзака: 12911\n",
      "Объем рюкзака: 11.7\n",
      "\n",
      "\n",
      "{'c': 376, 'w': 1445, 'v': 0.8}\n",
      "{'c': 362, 'w': 1054, 'v': 0.9}\n",
      "{'c': 183, 'w': 750, 'v': 0.6}\n",
      "{'c': 302, 'w': 1463, 'v': 0.6}\n",
      "{'c': 337, 'w': 460, 'v': 1.1}\n",
      "{'c': 119, 'w': 560, 'v': 0.8}\n",
      "{'c': 347, 'w': 1084, 'v': 0.7}\n",
      "{'c': 295, 'w': 253, 'v': 0.5}\n",
      "{'c': 103, 'w': 377, 'v': 0.7}\n",
      "{'c': 327, 'w': 861, 'v': 0.9}\n",
      "{'c': 184, 'w': 212, 'v': 0.7}\n",
      "{'c': 361, 'w': 1534, 'v': 0.5}\n",
      "{'c': 307, 'w': 815, 'v': 0.7}\n",
      "{'c': 340, 'w': 325, 'v': 0.6}\n",
      "{'c': 315, 'w': 312, 'v': 0.5}\n",
      "{'c': 329, 'w': 1406, 'v': 1.1}\n"
     ]
    }
   ],
   "source": [
    "selected = []\n",
    "for index, g in enumerate(res[1]):\n",
    "    if g == 1:\n",
    "        selected.append(knapsackData[index])\n",
    "        \n",
    "total_value = sum([item['c'] for item in selected])\n",
    "total_weight = sum([item['w'] for item in selected])\n",
    "total_volume = sum([item['v'] for item in selected])\n",
    "\n",
    "print(\"Ценность рюкзака: \" + str(total_value))\n",
    "print(\"Вес рюкзака: \" + str(total_weight))\n",
    "print(\"Объем рюкзака: \" + str(total_volume))\n",
    "print(\"\\n\")\n",
    "\n",
    "for i in selected:\n",
    "    print(i)"
   ]
  },
  {
   "cell_type": "code",
   "execution_count": null,
   "metadata": {},
   "outputs": [],
   "source": []
  }
 ],
 "metadata": {
  "kernelspec": {
   "display_name": "Python 3",
   "language": "python",
   "name": "python3"
  },
  "language_info": {
   "codemirror_mode": {
    "name": "ipython",
    "version": 3
   },
   "file_extension": ".py",
   "mimetype": "text/x-python",
   "name": "python",
   "nbconvert_exporter": "python",
   "pygments_lexer": "ipython3",
   "version": "3.7.3"
  }
 },
 "nbformat": 4,
 "nbformat_minor": 2
}
