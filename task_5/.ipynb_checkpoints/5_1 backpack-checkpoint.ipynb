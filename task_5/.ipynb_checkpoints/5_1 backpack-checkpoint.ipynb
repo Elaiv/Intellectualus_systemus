{
 "cells": [
  {
   "cell_type": "code",
   "execution_count": 3,
   "metadata": {},
   "outputs": [],
   "source": [
    "from ortools.algorithms import pywrapknapsack_solver as kss"
   ]
  },
  {
   "cell_type": "markdown",
   "metadata": {},
   "source": [
    "## Забираем значения\n",
    "<p>Первая строка содержит грузоподъемность и вместимость рюкзака, остальные строки - параметры предметов: вес, объем и ценность соответственно.</p>"
   ]
  },
  {
   "cell_type": "code",
   "execution_count": 4,
   "metadata": {},
   "outputs": [
    {
     "name": "stdout",
     "output_type": "stream",
     "text": [
      "Грузоподъемность рюкзака: 13000\n",
      "Вместимость рюкзака: 12\n"
     ]
    }
   ],
   "source": [
    "# путь к файлу с исходными данными\n",
    "path = \"src/18.txt\"\n",
    "\n",
    "data = []\n",
    "\n",
    "# грузоподъемность рюкзака\n",
    "maxW = 0\n",
    "# ценность рюкзака\n",
    "maxV = 0\n",
    "\n",
    "\n",
    "fRow = True\n",
    "with open(path, \"r\") as file:\n",
    "    for i in file:\n",
    "        # первая строка с параметрами рюкзака\n",
    "        if (fRow):\n",
    "            fRow = False\n",
    "            maxW, maxV = i.split()\n",
    "            # кастуем к integer\n",
    "            maxW = int(maxW)\n",
    "            maxV = int(maxV)\n",
    "        # остальные строки с параметрами предметов\n",
    "        else:\n",
    "            data.append(i.split())\n",
    "\n",
    "print(\"Грузоподъемность рюкзака: \" + str(maxW))\n",
    "print(\"Вместимость рюкзака: \" + str(maxV))"
   ]
  },
  {
   "cell_type": "markdown",
   "metadata": {},
   "source": [
    "## Разделение параметров предметов\n",
    "Источник: http://google.github.io/or-tools/dotnet/KnapsackSolver_8cs_source.html\n",
    "<p>Следуя источнику, в <b>строке 55</b> в функции <i>Init</i> на вход подаются числа типа <b>long</b>, и если подавать данные в формате <b>float</b>, то дробная часть будет отброшена. Поэтому было решено воспользоваться умножением объема предметов на 10, так как максимальное количество цифр после запятой равно одному, с его последующем делением на 10 при выводе результатов.</p>"
   ]
  },
  {
   "cell_type": "code",
   "execution_count": 5,
   "metadata": {},
   "outputs": [
    {
     "name": "stdout",
     "output_type": "stream",
     "text": [
      "Вес предметов:\n",
      "[600, 873, 1054, 1287, 776, 1445, 1054, 750, 1463, 460, 560, 1285, 1084, 253, 377, 1035, 861, 212, 1534, 575, 815, 147, 898, 325, 466, 978, 1686, 312, 503, 1406]\n",
      "Объем предметов:\n",
      "[9, 6, 11, 6, 8, 8, 9, 6, 6, 11, 8, 5, 7, 5, 7, 6, 9, 7, 5, 11, 7, 4, 4, 6, 12, 10, 5, 5, 11, 11]\n",
      "Ценность предметов:\n",
      "[190, 102, 296, 123, 184, 376, 362, 183, 302, 337, 119, 205, 347, 295, 103, 203, 327, 184, 361, 201, 307, 138, 121, 340, 114, 234, 202, 315, 119, 329]\n"
     ]
    }
   ],
   "source": [
    "# вес\n",
    "w = []\n",
    "# объем\n",
    "v = []\n",
    "# цэ - цЭнность :)\n",
    "c = []\n",
    "\n",
    "for i in range(len(data)):\n",
    "    w.append(int(data[i][0]))\n",
    "    v.append(int(float(data[i][1]) * 10))\n",
    "    c.append(int(data[i][2]))\n",
    "\n",
    "maxV = maxV * 10\n",
    "    \n",
    "print(\"Вес предметов:\")\n",
    "print(w)\n",
    "print(\"Объем предметов:\")\n",
    "print(v)\n",
    "print(\"Ценность предметов:\")\n",
    "print(c)"
   ]
  },
  {
   "cell_type": "markdown",
   "metadata": {},
   "source": [
    "## Модель решателя\n",
    "Источник: https://developers.google.com/optimization/bin/knapsack\n",
    "<p>Единственное различие состоит в том, что мы расширяем массивы <i>weights</i> и <i>capacities</i> на новый параметр - <b>объем</b> (volume).</p>\n",
    "<p>Параметр <b>KNAPSACK_MULTIDIMENSION_BRANCH_AND_BOUND_SOLVER</b> говорит решателю использовать метод <i>\"ветвей и границ\"</i> для решения задачи.</p>"
   ]
  },
  {
   "cell_type": "code",
   "execution_count": 6,
   "metadata": {},
   "outputs": [],
   "source": [
    "solver = kss.KnapsackSolver(kss.KnapsackSolver.KNAPSACK_MULTIDIMENSION_BRANCH_AND_BOUND_SOLVER, \"random_solver_name\")\n",
    "\n",
    "values = c\n",
    "weights = [w, v]\n",
    "capacities = [maxW, maxV]\n",
    "\n",
    "solver.Init(values, weights, capacities)\n",
    "computed_value = solver.Solve()"
   ]
  },
  {
   "cell_type": "markdown",
   "metadata": {},
   "source": [
    "## Вывод полученных результатов\n",
    "<p>Не забываем делить на 10 объем.</p>"
   ]
  },
  {
   "cell_type": "code",
   "execution_count": 10,
   "metadata": {},
   "outputs": [
    {
     "name": "stdout",
     "output_type": "stream",
     "text": [
      "Оптимальная стоимость: 4744\n",
      "Оптимальный вес: 12949\n",
      "Оптимальный объем: 11.9\n",
      "\n",
      " Список предметов: \n",
      "190\t600\t0.9\n",
      "376\t1445\t0.8\n",
      "362\t1054\t0.9\n",
      "302\t1463\t0.6\n",
      "337\t460\t1.1\n",
      "347\t1084\t0.7\n",
      "295\t253\t0.5\n",
      "327\t861\t0.9\n",
      "184\t212\t0.7\n",
      "361\t1534\t0.5\n",
      "307\t815\t0.7\n",
      "138\t147\t0.4\n",
      "340\t325\t0.6\n",
      "234\t978\t1.0\n",
      "315\t312\t0.5\n",
      "329\t1406\t1.1\n",
      "\n"
     ]
    }
   ],
   "source": [
    "packed_items = []\n",
    "total_weight = 0\n",
    "total_volume=0\n",
    "\n",
    "for i in range(len(values)):\n",
    "    if solver.BestSolutionContains(i):\n",
    "        packed_items.append([values[i], weights[0][i], weights[1][i]])\n",
    "        total_weight += weights[0][i]\n",
    "        total_volume += float(weights[1][i]) / 10\n",
    "\n",
    "res = \"Оптимальная стоимость: \" + str(computed_value) + \"\\n\"  \n",
    "res += \"Оптимальный вес: \" + str(total_weight) + \"\\n\"\n",
    "res += \"Оптимальный объем: \" + str(total_volume) + \"\\n\"\n",
    "res += \"\\n Список предметов: \\n\"\n",
    "\n",
    "for item in packed_items:\n",
    "    res += str(item[0]) + \"\\t\" + str(item[1]) + \"\\t\" + str(float(item[2]) / 10) + \"\\n\"\n",
    "print(res)"
   ]
  },
  {
   "cell_type": "markdown",
   "metadata": {},
   "source": [
    "# А ТЕПЕРЬ ВСЁ ТО ЖЕ САМОЕ, ТОЛЬКО С ПОМОЩЬЮ ДРУГООООООООЙ БИБЛИОТЕКИ, А ТО В ЭТОЙ ЧТО-ТО НЕТ ГЕНЕТИЧЕСКИХ АЛГОРИТМОВ. НЕ ПОРЯДОК!\n",
    "Продолжение в другом файле"
   ]
  },
  {
   "cell_type": "code",
   "execution_count": null,
   "metadata": {},
   "outputs": [],
   "source": []
  }
 ],
 "metadata": {
  "kernelspec": {
   "display_name": "Python 3",
   "language": "python",
   "name": "python3"
  },
  "language_info": {
   "codemirror_mode": {
    "name": "ipython",
    "version": 3
   },
   "file_extension": ".py",
   "mimetype": "text/x-python",
   "name": "python",
   "nbconvert_exporter": "python",
   "pygments_lexer": "ipython3",
   "version": "3.7.3"
  }
 },
 "nbformat": 4,
 "nbformat_minor": 2
}
