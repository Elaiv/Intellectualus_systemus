{
 "cells": [
  {
   "cell_type": "code",
   "execution_count": 1,
   "metadata": {},
   "outputs": [
    {
     "name": "stdout",
     "output_type": "stream",
     "text": [
      "Enter user ID: 18\n",
      "Computing the cosine similarity matrix...\n",
      "Done computing similarity matrix.\n",
      "User 18:\n",
      "272  ('Good Will Hunting (1997)', '01-Jan-1997')                                                     5\n",
      "1367 ('Faust (1994)', '01-Jan-1994')                                                                 5\n",
      "1449 ('Pather Panchali (1955)', '22-Mar-1996')                                                       5\n",
      "1512 ('World of Apu, The (Apur Sansar) (1959)', '05-Apr-1996')                                       5\n",
      "606  ('All About Eve (1950)', '01-Jan-1950')                                                         4.963\n"
     ]
    }
   ],
   "source": [
    "import io\n",
    "from surprise import Dataset\n",
    "from surprise import KNNWithMeans\n",
    "from surprise import get_dataset_dir\n",
    "from collections import defaultdict\n",
    "\n",
    "k=4\n",
    "similarFilms = 5\n",
    "userID = input(\"Enter user ID: \")\n",
    "\n",
    "data = Dataset.load_builtin('ml-100k')\n",
    "trainset = data.build_full_trainset()\n",
    "simOptions = {'name':'cosine','min_support':similarFilms}\n",
    "\n",
    "alg=KNNWithMeans(k=k, min_k=k, sim_options = simOptions)\n",
    "alg.fit(trainset)\n",
    "\n",
    "testSet = trainset.build_anti_testset()\n",
    "testSet = filter(lambda x: x[0] == userID, testSet)\n",
    "predictions = alg.test(testSet)\n",
    "topN = defaultdict(list)\n",
    "\n",
    "for uid, iid, _, est, _ in predictions:\n",
    "    topN[uid].append((iid, round(est, 3)))\n",
    "\n",
    "for uid, userRnk in topN.items():\n",
    "    userRnk.sort(key=lambda x: x[1], reverse=True)\n",
    "    topN[uid] = userRnk[:similarFilms]\n",
    "\n",
    "file = get_dataset_dir() + '/ml-100k/ml-100k/u.item'\n",
    "data = {}\n",
    "rowFormat = \"{:^4} {:<95} {:^1}\"\n",
    "\n",
    "with open(file, 'r') as f:\n",
    "    for line in f:\n",
    "        line = line.split('|')\n",
    "        data[line[0]] = (line[1], line[2])\n",
    "\n",
    "print(f'User {userID}:')\n",
    "films = []\n",
    "for movieID, rating in topN[userID]:\n",
    "    print(rowFormat.format(movieID,str(data[movieID]),rating))\n",
    "    films.append(data[movieID][0])\n"
   ]
  },
  {
   "cell_type": "code",
   "execution_count": 2,
   "metadata": {},
   "outputs": [],
   "source": [
    "from SPARQLWrapper import SPARQLWrapper, JSON\n",
    "from IPython.display import display, HTML\n",
    "import pandas as pd\n",
    "import requests\n",
    "import re\n",
    "\n",
    "sparql = SPARQLWrapper(\"https://query.wikidata.org/sparql\", agent='Mozilla/5.0 (Macintosh; Intel Mac OS X 10_11_5) AppleWebKit/537.36 (KHTML, like Gecko) Chrome/50.0.2661.102 Safari/537.36')\n",
    "API_ENDPOINT = \"https://www.wikidata.org/w/api.php\""
   ]
  },
  {
   "cell_type": "code",
   "execution_count": 3,
   "metadata": {},
   "outputs": [],
   "source": [
    "def Sparql(sparql, film):\n",
    "    print(film)\n",
    "    queryString = \"\"\"\n",
    "SELECT ?characterLabel ?actorLabel\n",
    "WHERE {\n",
    "wd:\"\"\"+film+\"\"\" p:P161 [\n",
    "ps:P161 ?actor;\n",
    "pq:P453 ?character\n",
    "];\n",
    "SERVICE wikibase:label { bd:serviceParam wikibase:language \"[AUTO_LANGUAGE],en\". }\n",
    "}\n",
    "    \"\"\"\n",
    "    sparql.setQuery(queryString)\n",
    "    sparql.setReturnFormat(JSON)\n",
    "    results = sparql.query().convert()\n",
    "    results_df = pd.io.json.json_normalize(results['results']['bindings'])\n",
    "    return results_df"
   ]
  },
  {
   "cell_type": "code",
   "execution_count": 4,
   "metadata": {},
   "outputs": [
    {
     "name": "stdout",
     "output_type": "stream",
     "text": [
      "список героев рекомендованного фильма с указанием актеров, сыгравших эти роли\n"
     ]
    }
   ],
   "source": [
    "print(\"список героев рекомендованного фильма с указанием актеров, сыгравших эти роли\")"
   ]
  },
  {
   "cell_type": "code",
   "execution_count": 6,
   "metadata": {},
   "outputs": [
    {
     "name": "stdout",
     "output_type": "stream",
     "text": [
      "Good Will Hunting  :\n",
      "Q193835\n",
      "Нет результатов\n",
      "\n",
      "Faust  :\n",
      "Q29478\n",
      "Нет результатов\n",
      "\n",
      "Pather Panchali  :\n",
      "Q622380\n",
      "Нет результатов\n",
      "\n",
      "World of Apu, The (Apur Sansar)  :\n",
      "Q622376\n",
      "Нет результатов\n",
      "\n",
      "All About Eve  :\n",
      "Q200299\n",
      "Нет результатов\n",
      "\n"
     ]
    }
   ],
   "source": [
    "# просматриваем каждый фильм в списке рекомндаций\n",
    "for f in films:\n",
    "    film = re.sub('\\([0-9]{4}\\)', \"\", f) # убираем год\n",
    "    name1, name2 = '', ''\n",
    "    #если есть дополнительное название, которое идет в скобках, мы его находим\n",
    "    match = re.search('\\([ a-zA-Z0-9]*\\)', film)\n",
    "    if match:\n",
    "        # разделяем названия\n",
    "        name1 = re.sub('\\('+match[0]+'\\)', '', film)\n",
    "        name2 = re.sub('[()]', '', match[0])\n",
    "    else:\n",
    "        name1 = film\n",
    "    #пробуем искать по первому названию, если все ок, то идем дальше, если нет, то ищем по второму названию\n",
    "    try:\n",
    "        params = {'action' : 'wbsearchentities','format' : 'json','language' : 'en','search': name1}\n",
    "        res = requests.get(API_ENDPOINT, params = params)\n",
    "    except:\n",
    "        params = {'action' : 'wbsearchentities','format' : 'json','language' : 'en','search': name2}\n",
    "        res = requests.get(API_ENDPOINT, params = params)\n",
    "    print(film,\":\")\n",
    "    #проверяем нашлелся ли фильм\n",
    "    if res.json()['search']:\n",
    "        results_df = Sparql(sparql, res.json()['search'][0]['id'])\n",
    "        #проверяем нашлись ли сценаристы с наградами\n",
    "        if len(results_df.columns) <= 0:\n",
    "            print(\"Нет результатов\\n\")\n",
    "        else:\n",
    "            results_df = results_df.reindex(columns=['characterLabel.value', 'actorLabel.value'], fill_value='no data')\n",
    "            display(HTML(results_df[['characterLabel.value', 'filmLabel.value']].to_html()))\n",
    "    else:\n",
    "        print(\"Фильм не найден\\n\")"
   ]
  },
  {
   "cell_type": "code",
   "execution_count": null,
   "metadata": {},
   "outputs": [],
   "source": []
  }
 ],
 "metadata": {
  "kernelspec": {
   "display_name": "Python 3",
   "language": "python",
   "name": "python3"
  }
 },
 "nbformat": 4,
 "nbformat_minor": 2
}
