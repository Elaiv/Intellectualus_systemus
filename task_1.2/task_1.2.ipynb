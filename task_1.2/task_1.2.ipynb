{
 "cells": [
  {
   "cell_type": "code",
   "execution_count": 2,
   "metadata": {},
   "outputs": [
    {
     "name": "stdout",
     "output_type": "stream",
     "text": [
      "Enter user ID: 62\n",
      "Estimating biases using als...\n",
      "Computing the cosine similarity matrix...\n",
      "Done computing similarity matrix.\n",
      "User 62:\n",
      "814\t5\t('Great Day in Harlem, A (1994)', '01-Jan-1994')\n",
      "1536\t5\t('Aiqing wansui (1994)', '22-Jul-1996')\n",
      "1512\t4.852\t('World of Apu, The (Apur Sansar) (1959)', '05-Apr-1996')\n",
      "1599\t4.788\t(\"Someone Else's America (1995)\", '10-May-1996')\n",
      "1500\t4.786\t('Santa with Muscles (1996)', '08-Nov-1996')\n"
     ]
    }
   ],
   "source": [
    "import surprise\n",
    "from collections import defaultdict\n",
    "\n",
    "k = 4\n",
    "sim_films = 5\n",
    "user_id = input('Enter user ID: ')\n",
    "\n",
    "data = surprise.Dataset.load_builtin('ml-100k')\n",
    "trainset = data.build_full_trainset()\n",
    "sim_options = {'name': 'cosine', 'user_based': True, 'min_support': sim_films}\n",
    "algo = surprise.KNNBaseline(k=k, sim_options=sim_options)\n",
    "algo.fit(trainset)\n",
    "\n",
    "testset = trainset.build_anti_testset()\n",
    "testset = filter(lambda x: x[0] == user_id, testset)\n",
    "predictions = algo.test(testset)\n",
    "\n",
    "top_n = defaultdict(list)\n",
    "for uid, iid, _, est, _ in predictions:\n",
    "    top_n[uid].append((iid, round(est, 3)))\n",
    "\n",
    "for uid, user_ratings in top_n.items():\n",
    "    user_ratings.sort(key=lambda x: x[1], reverse=True)\n",
    "    top_n[uid] = user_ratings[:5]\n",
    "\n",
    "file_name = surprise.get_dataset_dir() + '/ml-100k/ml-100k/u.item'\n",
    "item_data = {}\n",
    "with open(file_name, 'r') as f:\n",
    "    for line in f:\n",
    "        line = line.split('|')\n",
    "        item_data[line[0]] = (line[1], line[2])\n",
    "\n",
    "print(f'User {user_id}:')\n",
    "for movie_id, rating in top_n[user_id]:\n",
    "    print(str(movie_id) + \"\\t\" + str(rating) + \"\\t\" + str(item_data[movie_id]))"
   ]
  },
  {
   "cell_type": "code",
   "execution_count": null,
   "metadata": {},
   "outputs": [],
   "source": []
  }
 ],
 "metadata": {
  "kernelspec": {
   "display_name": "Python 3",
   "language": "python",
   "name": "python3"
  },
  "language_info": {
   "codemirror_mode": {
    "name": "ipython",
    "version": 3
   },
   "file_extension": ".py",
   "mimetype": "text/x-python",
   "name": "python",
   "nbconvert_exporter": "python",
   "pygments_lexer": "ipython3",
   "version": "3.7.3"
  }
 },
 "nbformat": 4,
 "nbformat_minor": 2
}
